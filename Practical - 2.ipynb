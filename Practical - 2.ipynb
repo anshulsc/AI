{
 "cells": [
  {
   "cell_type": "markdown",
   "id": "e841aa58",
   "metadata": {},
   "source": [
    "# Tic-Tac-Toe Game (Human vs Human)\n",
    "\n",
    "## Problem Statement\n",
    "\n",
    "The objective of this project is to develop a Tic-Tac-Toe game for two players: 'X' and 'O'. 'X' takes odd turns, while 'O' takes even turns. The game is played on a 3x3 grid, with the goal of forming a row, column, or diagonal with three consecutive marks, either 'X' or 'O'.\n",
    "\n",
    "\n",
    "\n",
    "## Game Rules\n",
    "\n",
    "- Players take alternating turns to place their marks ('X' for the player, 'O' for the computer) on empty spaces in the 3x3 grid.\n",
    "- The game continues until one player successfully creates a row, column, or diagonal with three of their marks, resulting in a win, or until the grid is completely filled, leading to a draw.\n"
   ]
  }
 ],
 "metadata": {
  "kernelspec": {
   "display_name": "Python 3.9 (pytorch)",
   "language": "python",
   "name": "pytorch"
  },
  "language_info": {
   "codemirror_mode": {
    "name": "ipython",
    "version": 3
   },
   "file_extension": ".py",
   "mimetype": "text/x-python",
   "name": "python",
   "nbconvert_exporter": "python",
   "pygments_lexer": "ipython3",
   "version": "3.9.16"
  }
 },
 "nbformat": 4,
 "nbformat_minor": 5
}
